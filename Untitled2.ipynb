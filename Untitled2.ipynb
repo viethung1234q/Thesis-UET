{
 "cells": [
  {
   "cell_type": "code",
   "execution_count": 1,
   "id": "f0b0b41f-4e3f-42ec-94f0-94366ad4dc27",
   "metadata": {},
   "outputs": [],
   "source": [
    "from kubernetes import client \n",
    "from kserve import KServeClient\n",
    "from kserve import constants\n",
    "from kserve import utils\n",
    "from kserve import V1beta1InferenceService\n",
    "from kserve import V1beta1InferenceServiceSpec\n",
    "from kserve import V1beta1PredictorSpec\n",
    "from kserve import V1beta1SKLearnSpec"
   ]
  },
  {
   "cell_type": "code",
   "execution_count": 2,
   "id": "27621473-3b5f-4ec4-bb61-f83792a74506",
   "metadata": {},
   "outputs": [
    {
     "name": "stdout",
     "output_type": "stream",
     "text": [
      "kubeflow-user-example-com\n"
     ]
    }
   ],
   "source": [
    "namespace = utils.get_default_target_namespace()\n",
    "\n",
    "print(namespace)"
   ]
  },
  {
   "cell_type": "code",
   "execution_count": 3,
   "id": "bf2f4fee-23c7-423d-beed-b7784d7493c3",
   "metadata": {},
   "outputs": [
    {
     "data": {
      "text/plain": [
       "{'apiVersion': 'serving.kserve.io/v1beta1',\n",
       " 'kind': 'InferenceService',\n",
       " 'metadata': {'annotations': {'sidecar.istio.io/inject': 'false'},\n",
       "  'creationTimestamp': '2023-05-01T10:38:47Z',\n",
       "  'finalizers': ['inferenceservice.finalizers'],\n",
       "  'generation': 1,\n",
       "  'managedFields': [{'apiVersion': 'serving.kserve.io/v1beta1',\n",
       "    'fieldsType': 'FieldsV1',\n",
       "    'fieldsV1': {'f:metadata': {'f:annotations': {'.': {},\n",
       "       'f:sidecar.istio.io/inject': {}}},\n",
       "     'f:spec': {'.': {},\n",
       "      'f:predictor': {'.': {},\n",
       "       'f:serviceAccountName': {},\n",
       "       'f:sklearn': {'.': {}, 'f:image': {}, 'f:storageUri': {}}}}},\n",
       "    'manager': 'OpenAPI-Generator',\n",
       "    'operation': 'Update',\n",
       "    'time': '2023-05-01T10:38:44Z'},\n",
       "   {'apiVersion': 'serving.kserve.io/v1beta1',\n",
       "    'fieldsType': 'FieldsV1',\n",
       "    'fieldsV1': {'f:metadata': {'f:finalizers': {'.': {},\n",
       "       'v:\"inferenceservice.finalizers\"': {}}}},\n",
       "    'manager': 'manager',\n",
       "    'operation': 'Update',\n",
       "    'time': '2023-05-01T10:38:47Z'},\n",
       "   {'apiVersion': 'serving.kserve.io/v1beta1',\n",
       "    'fieldsType': 'FieldsV1',\n",
       "    'fieldsV1': {'f:status': {'.': {},\n",
       "      'f:address': {'.': {}, 'f:url': {}},\n",
       "      'f:components': {'.': {},\n",
       "       'f:predictor': {'.': {},\n",
       "        'f:address': {'.': {}, 'f:url': {}},\n",
       "        'f:latestCreatedRevision': {},\n",
       "        'f:latestReadyRevision': {},\n",
       "        'f:latestRolledoutRevision': {},\n",
       "        'f:traffic': {},\n",
       "        'f:url': {}}},\n",
       "      'f:conditions': {},\n",
       "      'f:url': {}}},\n",
       "    'manager': 'manager',\n",
       "    'operation': 'Update',\n",
       "    'subresource': 'status',\n",
       "    'time': '2023-05-01T10:40:39Z'}],\n",
       "  'name': 'income-model',\n",
       "  'namespace': 'kubeflow-user-example-com',\n",
       "  'resourceVersion': '8078555',\n",
       "  'uid': '1fd44691-1a8d-44b8-af27-8b8ecaf202b6'},\n",
       " 'spec': {'predictor': {'model': {'image': 'kserve/sklearnserver:v0.9.0',\n",
       "    'modelFormat': {'name': 'sklearn'},\n",
       "    'name': '',\n",
       "    'protocolVersion': 'v1',\n",
       "    'resources': {},\n",
       "    'runtime': 'kserve-sklearnserver',\n",
       "    'storageUri': 's3://httt/1/8bf1e39afc1e490ebb6f0740d755dd8f/artifacts/model_mlp'},\n",
       "   'serviceAccountName': 'sa'}},\n",
       " 'status': {'address': {'url': 'http://income-model.kubeflow-user-example-com.svc.cluster.local/v1/models/income-model:predict'},\n",
       "  'components': {'predictor': {'address': {'url': 'http://income-model-predictor-default.kubeflow-user-example-com.svc.cluster.local'},\n",
       "    'latestCreatedRevision': 'income-model-predictor-default-00001',\n",
       "    'latestReadyRevision': 'income-model-predictor-default-00001',\n",
       "    'latestRolledoutRevision': 'income-model-predictor-default-00001',\n",
       "    'traffic': [{'latestRevision': True,\n",
       "      'percent': 100,\n",
       "      'revisionName': 'income-model-predictor-default-00001'}],\n",
       "    'url': 'http://income-model-predictor-default.kubeflow-user-example-com.example.com'}},\n",
       "  'conditions': [{'lastTransitionTime': '2023-05-01T10:40:39Z',\n",
       "    'status': 'True',\n",
       "    'type': 'IngressReady'},\n",
       "   {'lastTransitionTime': '2023-05-01T10:40:39Z',\n",
       "    'severity': 'Info',\n",
       "    'status': 'True',\n",
       "    'type': 'PredictorConfigurationReady'},\n",
       "   {'lastTransitionTime': '2023-05-01T10:40:39Z',\n",
       "    'status': 'True',\n",
       "    'type': 'PredictorReady'},\n",
       "   {'lastTransitionTime': '2023-05-01T10:40:39Z',\n",
       "    'severity': 'Info',\n",
       "    'status': 'True',\n",
       "    'type': 'PredictorRouteReady'},\n",
       "   {'lastTransitionTime': '2023-05-01T10:40:39Z',\n",
       "    'status': 'True',\n",
       "    'type': 'Ready'}],\n",
       "  'url': 'http://income-model.kubeflow-user-example-com.example.com'}}"
      ]
     },
     "execution_count": 3,
     "metadata": {},
     "output_type": "execute_result"
    }
   ],
   "source": [
    "name = 'income-model'\n",
    "KServe = KServeClient()\n",
    "\n",
    "KServe.get(name=name, namespace=namespace, timeout_seconds=120)"
   ]
  },
  {
   "cell_type": "code",
   "execution_count": 4,
   "id": "682c5151-6e15-4fd4-aa3b-782fb3e00f1d",
   "metadata": {},
   "outputs": [
    {
     "name": "stdout",
     "output_type": "stream",
     "text": [
      "http://income-model.kubeflow-user-example-com.svc.cluster.local/v1/models/income-model:predict\n",
      "{\"predictions\": [0]}\n"
     ]
    }
   ],
   "source": [
    "import requests\n",
    "\n",
    "isvc_resp = KServe.get(name, namespace=namespace)\n",
    "isvc_url = isvc_resp['status']['address']['url']\n",
    "\n",
    "print(isvc_url)\n",
    "\n",
    "inference_input = {\n",
    "  'instances': [\n",
    "    [22, 7, 77516, 9, 13, 4, 1, 1, 4, 1, 2174, 0, 40, 38]\n",
    "  ]\n",
    "}\n",
    "\n",
    "response = requests.post(isvc_url, json=inference_input)\n",
    "print(response.text)"
   ]
  }
 ],
 "metadata": {
  "kernelspec": {
   "display_name": "Python 3 (ipykernel)",
   "language": "python",
   "name": "python3"
  },
  "language_info": {
   "codemirror_mode": {
    "name": "ipython",
    "version": 3
   },
   "file_extension": ".py",
   "mimetype": "text/x-python",
   "name": "python",
   "nbconvert_exporter": "python",
   "pygments_lexer": "ipython3",
   "version": "3.8.10"
  }
 },
 "nbformat": 4,
 "nbformat_minor": 5
}
