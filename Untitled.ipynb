{
 "cells": [
  {
   "cell_type": "code",
   "execution_count": 1,
   "id": "96ec6fe7-a798-459a-aa23-48d03261715b",
   "metadata": {},
   "outputs": [],
   "source": [
    "# %pip install mlflow==1.30.0 boto3==1.26.118"
   ]
  },
  {
   "cell_type": "code",
   "execution_count": 2,
   "id": "66c64837-5809-41ec-8fcc-651f9c719498",
   "metadata": {
    "tags": []
   },
   "outputs": [],
   "source": [
    "import os\n",
    "import mlflow\n",
    "\n",
    "from kfp import dsl, compiler\n",
    "from kfp.components import load_component_from_url, InputPath, OutputPath, create_component_from_func\n",
    "\n",
    "from kubernetes.client.models import V1EnvVar"
   ]
  },
  {
   "cell_type": "code",
   "execution_count": 3,
   "id": "59c8482f-9a72-4d0a-bbf3-77fdfbf36bef",
   "metadata": {},
   "outputs": [
    {
     "name": "stdout",
     "output_type": "stream",
     "text": [
      "Current tracking uri: http://mlflow.mlflow.svc.cluster.local:5000\n"
     ]
    }
   ],
   "source": [
    "os.environ[\"AWS_ACCESS_KEY_ID\"] = \"hungdv\"\n",
    "os.environ[\"AWS_SECRET_ACCESS_KEY\"] = \"hungdv123\"\n",
    "os.environ[\"MLFLOW_S3_ENDPOINT_URL\"] = f\"http://10.10.6.141:9190\" \n",
    "\n",
    "mlflow.set_tracking_uri(\"http://mlflow.mlflow.svc.cluster.local:5000\")\n",
    "tracking_uri = mlflow.get_tracking_uri()\n",
    "print(\"Current tracking uri: {}\".format(tracking_uri))"
   ]
  },
  {
   "cell_type": "markdown",
   "id": "36fc316f-1029-4690-a2f1-71c51ec27f29",
   "metadata": {},
   "source": [
    "### Download data"
   ]
  },
  {
   "cell_type": "code",
   "execution_count": 4,
   "id": "9f8c49fc-3f7c-49e3-91ed-92d4a863c49c",
   "metadata": {},
   "outputs": [],
   "source": [
    "web_downloader_op = load_component_from_url(\n",
    "    \"https://raw.githubusercontent.com/kubeflow/pipelines/master/components/contrib/web/Download/component.yaml\"\n",
    ")"
   ]
  },
  {
   "cell_type": "markdown",
   "id": "08ef9410-61f7-456e-9123-e996c04ca967",
   "metadata": {},
   "source": [
    "### Pre-process"
   ]
  },
  {
   "cell_type": "code",
   "execution_count": 5,
   "id": "81ea1208-1029-4de7-9d97-d1dabd5dbc6c",
   "metadata": {},
   "outputs": [],
   "source": [
    "def preprocess(file_path: InputPath(\"CSV\"), output_file: OutputPath(\"CSV\")):\n",
    "    import pandas as pd\n",
    "\n",
    "    header = [\n",
    "        \"age\",\n",
    "        \"workclass\",\n",
    "        \"fnlwgt\",\n",
    "        \"education\",\n",
    "        \"education_num\",\n",
    "        \"marital_status\",\n",
    "        \"occupation\",\n",
    "        \"relationship\",\n",
    "        \"race\",\n",
    "        \"sex\",\n",
    "        \"capital_gain\",\n",
    "        \"capital_loss\",\n",
    "        \"hours_per_week\",\n",
    "        \"native_country\",\n",
    "        \"income\",\n",
    "    ]\n",
    "    df = pd.read_csv(file_path, header=None, names=header)\n",
    "    # encode categorical data as integers\n",
    "    categorical_columns = [\n",
    "        \"age\",\n",
    "        \"workclass\",\n",
    "        \"education\",\n",
    "        \"marital_status\",\n",
    "        \"occupation\",\n",
    "        \"relationship\",\n",
    "        \"race\",\n",
    "        \"sex\",\n",
    "        \"native_country\",\n",
    "        \"income\",\n",
    "    ]\n",
    "    df[categorical_columns] = df[categorical_columns].apply(\n",
    "        lambda x: x.astype(\"category\").cat.codes, axis=0\n",
    "    )\n",
    "    df.to_csv(output_file, index=False)\n",
    "\n",
    "preprocess_op = create_component_from_func(\n",
    "    func=preprocess, \n",
    "    # base_image=\"python:3.9\", \n",
    "    packages_to_install=[\"pandas==1.2.4\"]\n",
    ")"
   ]
  },
  {
   "cell_type": "markdown",
   "id": "2ab54c5b-c975-4cf9-87a6-c95edc88eeb1",
   "metadata": {},
   "source": [
    "### Train\n",
    "\n",
    "Log name of *experiment, run, model_name*, ... to MLflow"
   ]
  },
  {
   "cell_type": "code",
   "execution_count": 6,
   "id": "915c9088-63e7-4e68-97be-7976febd0541",
   "metadata": {},
   "outputs": [],
   "source": [
    "def train(file_path: InputPath(\"CSV\")) -> str:\n",
    "    import mlflow\n",
    "    import pandas as pd\n",
    "    from sklearn.neural_network import MLPClassifier\n",
    "    from sklearn.model_selection import train_test_split\n",
    "\n",
    "    df = pd.read_csv(file_path)\n",
    "\n",
    "    labels_column = \"income\"\n",
    "    train_x, test_x, train_y, test_y = train_test_split(\n",
    "        df.drop([labels_column], axis=1), \n",
    "        df[labels_column], \n",
    "        random_state=69\n",
    "    )\n",
    "    \n",
    "    mlflow.set_experiment(experiment_name=\"Income\")\n",
    "    with mlflow.start_run(run_name=\"still_income_training\"):\n",
    "        alpha, hidden_layers = 2e-3, (6, 4)\n",
    "        mlp = MLPClassifier(\n",
    "            solver=\"lbfgs\",\n",
    "            alpha=alpha,\n",
    "            hidden_layer_sizes=hidden_layers,\n",
    "            random_state=69,\n",
    "        )\n",
    "\n",
    "        mlflow.log_param(\"alpha\", alpha)\n",
    "        mlflow.log_param(\"hidden_layers\", hidden_layers)\n",
    "\n",
    "        mlp.fit(train_x, train_y)\n",
    "\n",
    "        preds = mlp.predict(test_x)\n",
    "\n",
    "        accuracy = (test_y == preds).sum() / preds.shape[0]\n",
    "        mlflow.log_metric(\"accuracy\", accuracy)\n",
    "\n",
    "        result = mlflow.sklearn.log_model(\n",
    "            sk_model=mlp,\n",
    "            artifact_path=\"model\",\n",
    "            registered_model_name=\"still_income_model\",\n",
    "        )\n",
    "        return f\"{mlflow.get_artifact_uri()}/{result.artifact_path}\"\n",
    "\n",
    "train_op = create_component_from_func(\n",
    "    func=train,\n",
    "    # base_image=\"python:3.9\",\n",
    "    packages_to_install=[\"mlflow==1.30.0\", \"pandas==1.2.4\", \"scikit-learn==0.24.2\", \"boto3==1.26.118\"],\n",
    ")"
   ]
  },
  {
   "cell_type": "markdown",
   "id": "00b4d812-a7d7-4d93-8ee1-348d35f079d1",
   "metadata": {},
   "source": [
    "### Pipeline"
   ]
  },
  {
   "cell_type": "code",
   "execution_count": 7,
   "id": "80004d64-cd5f-4628-a4b8-10a805e7a094",
   "metadata": {},
   "outputs": [],
   "source": [
    "@dsl.pipeline(\n",
    "    name=\"income_pipeline\",\n",
    "    description=\"Pipeline for training and deploying a model trained on Census Income dataset\",\n",
    ")\n",
    "def income_pipeline():\n",
    "    downloader_task = web_downloader_op(\n",
    "        url=\"https://archive.ics.uci.edu/ml/machine-learning-databases/adult/adult.data\"\n",
    "    )\n",
    "    \n",
    "    preprocess_task = preprocess_op(file=downloader_task.outputs[\"data\"])\n",
    "    \n",
    "    train_task = train_op(file=preprocess_task.outputs[\"output\"]).add_env_variable(\n",
    "        V1EnvVar(\n",
    "            name=\"MLFLOW_TRACKING_URI\",\n",
    "            value=\"http://mlflow.mlflow.svc.cluster.local:5000\",\n",
    "        )\n",
    "    ).add_env_variable(\n",
    "        V1EnvVar(\n",
    "            name=\"MLFLOW_S3_ENDPOINT_URL\",\n",
    "            value=\"http://10.10.6.141:9190\",\n",
    "        )\n",
    "    ).add_env_variable(\n",
    "        V1EnvVar(\n",
    "            name=\"AWS_ACCESS_KEY_ID\",\n",
    "            value=\"hungdv\",\n",
    "        )\n",
    "    ).add_env_variable(\n",
    "        V1EnvVar(\n",
    "            name=\"AWS_SECRET_ACCESS_KEY\",\n",
    "            value=\"hungdv123\",\n",
    "        )\n",
    "    )"
   ]
  },
  {
   "cell_type": "markdown",
   "id": "f9c8d798-edee-4d90-bf99-5ca3c6389d43",
   "metadata": {},
   "source": [
    "### Run\n",
    "\n",
    "Compile pipeline to get *package_path*"
   ]
  },
  {
   "cell_type": "code",
   "execution_count": 8,
   "id": "af92acc5-554e-495c-824a-981279d13f56",
   "metadata": {},
   "outputs": [],
   "source": [
    "compiler.Compiler().compile(pipeline_func=income_pipeline, package_path=\"income_2.1.yaml\")"
   ]
  },
  {
   "cell_type": "code",
   "execution_count": null,
   "id": "cd3838fe-b3d6-46a1-bc94-32c038bebff6",
   "metadata": {},
   "outputs": [],
   "source": []
  }
 ],
 "metadata": {
  "kernelspec": {
   "display_name": "Python 3 (ipykernel)",
   "language": "python",
   "name": "python3"
  },
  "language_info": {
   "codemirror_mode": {
    "name": "ipython",
    "version": 3
   },
   "file_extension": ".py",
   "mimetype": "text/x-python",
   "name": "python",
   "nbconvert_exporter": "python",
   "pygments_lexer": "ipython3",
   "version": "3.8.10"
  }
 },
 "nbformat": 4,
 "nbformat_minor": 5
}
